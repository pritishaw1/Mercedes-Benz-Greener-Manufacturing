{
 "cells": [
  {
   "cell_type": "code",
   "execution_count": 1,
   "metadata": {},
   "outputs": [],
   "source": [
    "import numpy as np\n",
    "import pandas as pd\n",
    "from sklearn.decomposition import PCA"
   ]
  },
  {
   "cell_type": "code",
   "execution_count": 2,
   "metadata": {},
   "outputs": [],
   "source": [
    "df_train = pd.read_csv(r'train_car.csv')"
   ]
  },
  {
   "cell_type": "code",
   "execution_count": 3,
   "metadata": {},
   "outputs": [
    {
     "data": {
      "text/plain": [
       "(4209, 378)"
      ]
     },
     "execution_count": 3,
     "metadata": {},
     "output_type": "execute_result"
    }
   ],
   "source": [
    "df_train.shape"
   ]
  },
  {
   "cell_type": "code",
   "execution_count": 4,
   "metadata": {},
   "outputs": [
    {
     "data": {
      "text/html": [
       "<div>\n",
       "<style scoped>\n",
       "    .dataframe tbody tr th:only-of-type {\n",
       "        vertical-align: middle;\n",
       "    }\n",
       "\n",
       "    .dataframe tbody tr th {\n",
       "        vertical-align: top;\n",
       "    }\n",
       "\n",
       "    .dataframe thead th {\n",
       "        text-align: right;\n",
       "    }\n",
       "</style>\n",
       "<table border=\"1\" class=\"dataframe\">\n",
       "  <thead>\n",
       "    <tr style=\"text-align: right;\">\n",
       "      <th></th>\n",
       "      <th>ID</th>\n",
       "      <th>y</th>\n",
       "      <th>X0</th>\n",
       "      <th>X1</th>\n",
       "      <th>X2</th>\n",
       "      <th>X3</th>\n",
       "      <th>X4</th>\n",
       "      <th>X5</th>\n",
       "      <th>X6</th>\n",
       "      <th>X8</th>\n",
       "      <th>...</th>\n",
       "      <th>X375</th>\n",
       "      <th>X376</th>\n",
       "      <th>X377</th>\n",
       "      <th>X378</th>\n",
       "      <th>X379</th>\n",
       "      <th>X380</th>\n",
       "      <th>X382</th>\n",
       "      <th>X383</th>\n",
       "      <th>X384</th>\n",
       "      <th>X385</th>\n",
       "    </tr>\n",
       "  </thead>\n",
       "  <tbody>\n",
       "    <tr>\n",
       "      <th>0</th>\n",
       "      <td>0</td>\n",
       "      <td>130.81</td>\n",
       "      <td>k</td>\n",
       "      <td>v</td>\n",
       "      <td>at</td>\n",
       "      <td>a</td>\n",
       "      <td>d</td>\n",
       "      <td>u</td>\n",
       "      <td>j</td>\n",
       "      <td>o</td>\n",
       "      <td>...</td>\n",
       "      <td>0</td>\n",
       "      <td>0</td>\n",
       "      <td>1</td>\n",
       "      <td>0</td>\n",
       "      <td>0</td>\n",
       "      <td>0</td>\n",
       "      <td>0</td>\n",
       "      <td>0</td>\n",
       "      <td>0</td>\n",
       "      <td>0</td>\n",
       "    </tr>\n",
       "    <tr>\n",
       "      <th>1</th>\n",
       "      <td>6</td>\n",
       "      <td>88.53</td>\n",
       "      <td>k</td>\n",
       "      <td>t</td>\n",
       "      <td>av</td>\n",
       "      <td>e</td>\n",
       "      <td>d</td>\n",
       "      <td>y</td>\n",
       "      <td>l</td>\n",
       "      <td>o</td>\n",
       "      <td>...</td>\n",
       "      <td>1</td>\n",
       "      <td>0</td>\n",
       "      <td>0</td>\n",
       "      <td>0</td>\n",
       "      <td>0</td>\n",
       "      <td>0</td>\n",
       "      <td>0</td>\n",
       "      <td>0</td>\n",
       "      <td>0</td>\n",
       "      <td>0</td>\n",
       "    </tr>\n",
       "    <tr>\n",
       "      <th>2</th>\n",
       "      <td>7</td>\n",
       "      <td>76.26</td>\n",
       "      <td>az</td>\n",
       "      <td>w</td>\n",
       "      <td>n</td>\n",
       "      <td>c</td>\n",
       "      <td>d</td>\n",
       "      <td>x</td>\n",
       "      <td>j</td>\n",
       "      <td>x</td>\n",
       "      <td>...</td>\n",
       "      <td>0</td>\n",
       "      <td>0</td>\n",
       "      <td>0</td>\n",
       "      <td>0</td>\n",
       "      <td>0</td>\n",
       "      <td>0</td>\n",
       "      <td>1</td>\n",
       "      <td>0</td>\n",
       "      <td>0</td>\n",
       "      <td>0</td>\n",
       "    </tr>\n",
       "    <tr>\n",
       "      <th>3</th>\n",
       "      <td>9</td>\n",
       "      <td>80.62</td>\n",
       "      <td>az</td>\n",
       "      <td>t</td>\n",
       "      <td>n</td>\n",
       "      <td>f</td>\n",
       "      <td>d</td>\n",
       "      <td>x</td>\n",
       "      <td>l</td>\n",
       "      <td>e</td>\n",
       "      <td>...</td>\n",
       "      <td>0</td>\n",
       "      <td>0</td>\n",
       "      <td>0</td>\n",
       "      <td>0</td>\n",
       "      <td>0</td>\n",
       "      <td>0</td>\n",
       "      <td>0</td>\n",
       "      <td>0</td>\n",
       "      <td>0</td>\n",
       "      <td>0</td>\n",
       "    </tr>\n",
       "    <tr>\n",
       "      <th>4</th>\n",
       "      <td>13</td>\n",
       "      <td>78.02</td>\n",
       "      <td>az</td>\n",
       "      <td>v</td>\n",
       "      <td>n</td>\n",
       "      <td>f</td>\n",
       "      <td>d</td>\n",
       "      <td>h</td>\n",
       "      <td>d</td>\n",
       "      <td>n</td>\n",
       "      <td>...</td>\n",
       "      <td>0</td>\n",
       "      <td>0</td>\n",
       "      <td>0</td>\n",
       "      <td>0</td>\n",
       "      <td>0</td>\n",
       "      <td>0</td>\n",
       "      <td>0</td>\n",
       "      <td>0</td>\n",
       "      <td>0</td>\n",
       "      <td>0</td>\n",
       "    </tr>\n",
       "  </tbody>\n",
       "</table>\n",
       "<p>5 rows × 378 columns</p>\n",
       "</div>"
      ],
      "text/plain": [
       "   ID       y  X0 X1  X2 X3 X4 X5 X6 X8  ...  X375  X376  X377  X378  X379  \\\n",
       "0   0  130.81   k  v  at  a  d  u  j  o  ...     0     0     1     0     0   \n",
       "1   6   88.53   k  t  av  e  d  y  l  o  ...     1     0     0     0     0   \n",
       "2   7   76.26  az  w   n  c  d  x  j  x  ...     0     0     0     0     0   \n",
       "3   9   80.62  az  t   n  f  d  x  l  e  ...     0     0     0     0     0   \n",
       "4  13   78.02  az  v   n  f  d  h  d  n  ...     0     0     0     0     0   \n",
       "\n",
       "   X380  X382  X383  X384  X385  \n",
       "0     0     0     0     0     0  \n",
       "1     0     0     0     0     0  \n",
       "2     0     1     0     0     0  \n",
       "3     0     0     0     0     0  \n",
       "4     0     0     0     0     0  \n",
       "\n",
       "[5 rows x 378 columns]"
      ]
     },
     "execution_count": 4,
     "metadata": {},
     "output_type": "execute_result"
    }
   ],
   "source": [
    "df_train.head()"
   ]
  },
  {
   "cell_type": "code",
   "execution_count": 5,
   "metadata": {},
   "outputs": [],
   "source": [
    "y_train = df_train['y'].values"
   ]
  },
  {
   "cell_type": "code",
   "execution_count": 6,
   "metadata": {},
   "outputs": [
    {
     "name": "stdout",
     "output_type": "stream",
     "text": [
      "Number of features: 376\n"
     ]
    },
    {
     "data": {
      "text/plain": [
       "int64     368\n",
       "object      8\n",
       "dtype: int64"
      ]
     },
     "execution_count": 6,
     "metadata": {},
     "output_type": "execute_result"
    }
   ],
   "source": [
    "cols = [c for c in df_train.columns if 'X' in c]\n",
    "print('Number of features: {}'.format(len(cols)))\n",
    "df_train[cols].dtypes.value_counts()"
   ]
  },
  {
   "cell_type": "code",
   "execution_count": 7,
   "metadata": {},
   "outputs": [],
   "source": [
    "counts = [[], [], []]\n",
    "for c in cols:\n",
    "    typ = df_train[c].dtype\n",
    "    uniq = len(np.unique(df_train[c]))\n",
    "    if uniq == 1:\n",
    "        counts[0].append(c)\n",
    "    elif uniq == 2 and typ == np.int64:\n",
    "        counts[1].append(c)\n",
    "    else:\n",
    "        counts[2].append(c)"
   ]
  },
  {
   "cell_type": "code",
   "execution_count": 8,
   "metadata": {},
   "outputs": [
    {
     "name": "stdout",
     "output_type": "stream",
     "text": [
      "Constant features: 12 Binary features: 356 Categorical features: 8\n",
      "\n",
      "Constant features: ['X11', 'X93', 'X107', 'X233', 'X235', 'X268', 'X289', 'X290', 'X293', 'X297', 'X330', 'X347']\n",
      "Categorical features: ['X0', 'X1', 'X2', 'X3', 'X4', 'X5', 'X6', 'X8']\n"
     ]
    }
   ],
   "source": [
    "print('Constant features: {} Binary features: {} Categorical features: {}\\n'\n",
    "      .format(*[len(c) for c in counts]))\n",
    "print('Constant features:', counts[0])\n",
    "print('Categorical features:', counts[2])"
   ]
  },
  {
   "cell_type": "code",
   "execution_count": 9,
   "metadata": {},
   "outputs": [],
   "source": [
    "df_test = pd.read_csv(r'test_car.csv')"
   ]
  },
  {
   "cell_type": "code",
   "execution_count": 10,
   "metadata": {},
   "outputs": [],
   "source": [
    "usable_columns = list(set(df_train.columns) - set(['ID', 'y']))\n",
    "y_train = df_train['y'].values\n",
    "id_test = df_test['ID'].values"
   ]
  },
  {
   "cell_type": "code",
   "execution_count": 11,
   "metadata": {},
   "outputs": [],
   "source": [
    "x_train = df_train[usable_columns]\n",
    "x_test = df_test[usable_columns]"
   ]
  },
  {
   "cell_type": "code",
   "execution_count": 12,
   "metadata": {},
   "outputs": [
    {
     "name": "stdout",
     "output_type": "stream",
     "text": [
      "There are missing values in train dataframe\n",
      "There are no missing values in test dataframe\n"
     ]
    }
   ],
   "source": [
    "# 2. Check for null and unique values for test and train sets.\n",
    "\n",
    "if df_train.isnull().any().any()==False:\n",
    "    print(\"There are missing values in train dataframe\")\n",
    "else:\n",
    "    print(\"Missing Data in the train dataset\",df_train.isnull().sum())\n",
    "if df_test.isnull().any().any()==False:\n",
    "    print(\"There are no missing values in test dataframe\")\n",
    "else:\n",
    "    print(\"Missing Data i the test dataset\",df_test.isnull().sum())"
   ]
  },
  {
   "cell_type": "code",
   "execution_count": null,
   "metadata": {},
   "outputs": [],
   "source": [
    "df_test.head()"
   ]
  },
  {
   "cell_type": "code",
   "execution_count": 13,
   "metadata": {},
   "outputs": [
    {
     "name": "stderr",
     "output_type": "stream",
     "text": [
      "C:\\Users\\Priti\\Anaconda3\\lib\\site-packages\\ipykernel_launcher.py:13: SettingWithCopyWarning: \n",
      "A value is trying to be set on a copy of a slice from a DataFrame.\n",
      "Try using .loc[row_indexer,col_indexer] = value instead\n",
      "\n",
      "See the caveats in the documentation: https://pandas.pydata.org/pandas-docs/stable/user_guide/indexing.html#returning-a-view-versus-a-copy\n",
      "  del sys.path[0]\n",
      "C:\\Users\\Priti\\Anaconda3\\lib\\site-packages\\ipykernel_launcher.py:14: SettingWithCopyWarning: \n",
      "A value is trying to be set on a copy of a slice from a DataFrame.\n",
      "Try using .loc[row_indexer,col_indexer] = value instead\n",
      "\n",
      "See the caveats in the documentation: https://pandas.pydata.org/pandas-docs/stable/user_guide/indexing.html#returning-a-view-versus-a-copy\n",
      "  \n"
     ]
    },
    {
     "data": {
      "text/html": [
       "<div>\n",
       "<style scoped>\n",
       "    .dataframe tbody tr th:only-of-type {\n",
       "        vertical-align: middle;\n",
       "    }\n",
       "\n",
       "    .dataframe tbody tr th {\n",
       "        vertical-align: top;\n",
       "    }\n",
       "\n",
       "    .dataframe thead th {\n",
       "        text-align: right;\n",
       "    }\n",
       "</style>\n",
       "<table border=\"1\" class=\"dataframe\">\n",
       "  <thead>\n",
       "    <tr style=\"text-align: right;\">\n",
       "      <th></th>\n",
       "      <th>X142</th>\n",
       "      <th>X243</th>\n",
       "      <th>X129</th>\n",
       "      <th>X274</th>\n",
       "      <th>X376</th>\n",
       "      <th>X20</th>\n",
       "      <th>X40</th>\n",
       "      <th>X79</th>\n",
       "      <th>X250</th>\n",
       "      <th>X2</th>\n",
       "      <th>...</th>\n",
       "      <th>X102</th>\n",
       "      <th>X275</th>\n",
       "      <th>X257</th>\n",
       "      <th>X300</th>\n",
       "      <th>X150</th>\n",
       "      <th>X99</th>\n",
       "      <th>X287</th>\n",
       "      <th>X343</th>\n",
       "      <th>X312</th>\n",
       "      <th>X176</th>\n",
       "    </tr>\n",
       "  </thead>\n",
       "  <tbody>\n",
       "    <tr>\n",
       "      <th>0</th>\n",
       "      <td>1</td>\n",
       "      <td>0</td>\n",
       "      <td>0</td>\n",
       "      <td>0</td>\n",
       "      <td>0</td>\n",
       "      <td>0</td>\n",
       "      <td>0</td>\n",
       "      <td>0</td>\n",
       "      <td>0</td>\n",
       "      <td>213</td>\n",
       "      <td>...</td>\n",
       "      <td>0</td>\n",
       "      <td>1</td>\n",
       "      <td>0</td>\n",
       "      <td>0</td>\n",
       "      <td>1</td>\n",
       "      <td>0</td>\n",
       "      <td>0</td>\n",
       "      <td>0</td>\n",
       "      <td>0</td>\n",
       "      <td>0</td>\n",
       "    </tr>\n",
       "    <tr>\n",
       "      <th>1</th>\n",
       "      <td>1</td>\n",
       "      <td>0</td>\n",
       "      <td>0</td>\n",
       "      <td>0</td>\n",
       "      <td>0</td>\n",
       "      <td>0</td>\n",
       "      <td>0</td>\n",
       "      <td>0</td>\n",
       "      <td>1</td>\n",
       "      <td>215</td>\n",
       "      <td>...</td>\n",
       "      <td>0</td>\n",
       "      <td>1</td>\n",
       "      <td>0</td>\n",
       "      <td>0</td>\n",
       "      <td>1</td>\n",
       "      <td>0</td>\n",
       "      <td>0</td>\n",
       "      <td>0</td>\n",
       "      <td>0</td>\n",
       "      <td>0</td>\n",
       "    </tr>\n",
       "    <tr>\n",
       "      <th>2</th>\n",
       "      <td>0</td>\n",
       "      <td>0</td>\n",
       "      <td>0</td>\n",
       "      <td>1</td>\n",
       "      <td>0</td>\n",
       "      <td>0</td>\n",
       "      <td>0</td>\n",
       "      <td>0</td>\n",
       "      <td>1</td>\n",
       "      <td>110</td>\n",
       "      <td>...</td>\n",
       "      <td>0</td>\n",
       "      <td>0</td>\n",
       "      <td>0</td>\n",
       "      <td>0</td>\n",
       "      <td>1</td>\n",
       "      <td>0</td>\n",
       "      <td>0</td>\n",
       "      <td>0</td>\n",
       "      <td>0</td>\n",
       "      <td>0</td>\n",
       "    </tr>\n",
       "    <tr>\n",
       "      <th>3</th>\n",
       "      <td>1</td>\n",
       "      <td>0</td>\n",
       "      <td>0</td>\n",
       "      <td>0</td>\n",
       "      <td>0</td>\n",
       "      <td>0</td>\n",
       "      <td>0</td>\n",
       "      <td>0</td>\n",
       "      <td>1</td>\n",
       "      <td>110</td>\n",
       "      <td>...</td>\n",
       "      <td>0</td>\n",
       "      <td>0</td>\n",
       "      <td>0</td>\n",
       "      <td>0</td>\n",
       "      <td>1</td>\n",
       "      <td>0</td>\n",
       "      <td>0</td>\n",
       "      <td>0</td>\n",
       "      <td>0</td>\n",
       "      <td>0</td>\n",
       "    </tr>\n",
       "    <tr>\n",
       "      <th>4</th>\n",
       "      <td>0</td>\n",
       "      <td>0</td>\n",
       "      <td>0</td>\n",
       "      <td>0</td>\n",
       "      <td>0</td>\n",
       "      <td>0</td>\n",
       "      <td>0</td>\n",
       "      <td>0</td>\n",
       "      <td>1</td>\n",
       "      <td>110</td>\n",
       "      <td>...</td>\n",
       "      <td>0</td>\n",
       "      <td>0</td>\n",
       "      <td>0</td>\n",
       "      <td>0</td>\n",
       "      <td>1</td>\n",
       "      <td>0</td>\n",
       "      <td>0</td>\n",
       "      <td>0</td>\n",
       "      <td>0</td>\n",
       "      <td>0</td>\n",
       "    </tr>\n",
       "  </tbody>\n",
       "</table>\n",
       "<p>5 rows × 376 columns</p>\n",
       "</div>"
      ],
      "text/plain": [
       "   X142  X243  X129  X274  X376  X20  X40  X79  X250   X2  ...  X102  X275  \\\n",
       "0     1     0     0     0     0    0    0    0     0  213  ...     0     1   \n",
       "1     1     0     0     0     0    0    0    0     1  215  ...     0     1   \n",
       "2     0     0     0     1     0    0    0    0     1  110  ...     0     0   \n",
       "3     1     0     0     0     0    0    0    0     1  110  ...     0     0   \n",
       "4     0     0     0     0     0    0    0    0     1  110  ...     0     0   \n",
       "\n",
       "   X257  X300  X150  X99  X287  X343  X312  X176  \n",
       "0     0     0     1    0     0     0     0     0  \n",
       "1     0     0     1    0     0     0     0     0  \n",
       "2     0     0     1    0     0     0     0     0  \n",
       "3     0     0     1    0     0     0     0     0  \n",
       "4     0     0     1    0     0     0     0     0  \n",
       "\n",
       "[5 rows x 376 columns]"
      ]
     },
     "execution_count": 13,
     "metadata": {},
     "output_type": "execute_result"
    }
   ],
   "source": [
    "# 1. If for any column(s), the variance is equal to zero, then you need to remove those variable(s).\n",
    "\n",
    "# 3. Apply label encoder.\n",
    "\n",
    "for column in usable_columns:\n",
    "    cardinality = len(np.unique(x_train[column]))\n",
    "    if cardinality == 1:\n",
    "        x_train.drop(column, axis=1) # Column with only one \n",
    "        # value is useless so we drop it\n",
    "        x_test.drop(column, axis=1)\n",
    "    if cardinality > 2: # Column is categorical\n",
    "        mapper = lambda x: sum([ord(digit) for digit in x])\n",
    "        x_train[column] = x_train[column].apply(mapper)\n",
    "        x_test[column] = x_test[column].apply(mapper)\n",
    "x_train.head()"
   ]
  },
  {
   "cell_type": "code",
   "execution_count": 14,
   "metadata": {},
   "outputs": [
    {
     "name": "stdout",
     "output_type": "stream",
     "text": [
      "Feature data types:\n"
     ]
    },
    {
     "data": {
      "text/plain": [
       "int64    376\n",
       "dtype: int64"
      ]
     },
     "execution_count": 14,
     "metadata": {},
     "output_type": "execute_result"
    }
   ],
   "source": [
    "print('Feature data types:')\n",
    "x_train[cols].dtypes.value_counts()"
   ]
  },
  {
   "cell_type": "code",
   "execution_count": 15,
   "metadata": {},
   "outputs": [],
   "source": [
    "# 4. Perform dimensionality reduction.\n",
    "\n",
    "n_comp = 12\n",
    "pca = PCA(n_components=n_comp, random_state=420)\n",
    "pca2_results_train = pca.fit_transform(x_train)\n",
    "pca2_results_test = pca.transform(x_test)"
   ]
  },
  {
   "cell_type": "code",
   "execution_count": 16,
   "metadata": {},
   "outputs": [
    {
     "name": "stderr",
     "output_type": "stream",
     "text": [
      "C:\\Users\\Priti\\Anaconda3\\lib\\site-packages\\dask\\dataframe\\utils.py:14: FutureWarning: pandas.util.testing is deprecated. Use the functions in the public API at pandas.testing instead.\n",
      "  import pandas.util.testing as tm\n"
     ]
    }
   ],
   "source": [
    "import xgboost as xgb\n",
    "from sklearn.metrics import r2_score\n",
    "from sklearn.model_selection import train_test_split\n",
    "\n",
    "x_train, x_valid, y_train, y_valid = train_test_split(\n",
    "        pca2_results_train, \n",
    "        y_train, test_size=0.2, \n",
    "        random_state=4242)\n",
    "\n",
    "d_train = xgb.DMatrix(x_train, label=y_train)\n",
    "d_valid = xgb.DMatrix(x_valid, label=y_valid)\n",
    "d_test = xgb.DMatrix(pca2_results_test)"
   ]
  },
  {
   "cell_type": "code",
   "execution_count": 17,
   "metadata": {},
   "outputs": [],
   "source": [
    "params = {}\n",
    "params['objective'] = 'reg:linear'\n",
    "params['eta'] = 0.02\n",
    "params['max_depth'] = 4"
   ]
  },
  {
   "cell_type": "code",
   "execution_count": 18,
   "metadata": {},
   "outputs": [],
   "source": [
    "def xgb_r2_score(preds, dtrain):\n",
    "    labels = dtrain.get_label()\n",
    "    return 'r2', r2_score(labels, preds)"
   ]
  },
  {
   "cell_type": "code",
   "execution_count": 19,
   "metadata": {},
   "outputs": [],
   "source": [
    "watchlist = [(d_train, 'train'), (d_valid, 'valid')]"
   ]
  },
  {
   "cell_type": "code",
   "execution_count": 20,
   "metadata": {},
   "outputs": [
    {
     "name": "stdout",
     "output_type": "stream",
     "text": [
      "[22:02:22] WARNING: C:/Users/Administrator/workspace/xgboost-win64_release_1.1.0/src/objective/regression_obj.cu:170: reg:linear is now deprecated in favor of reg:squarederror.\n",
      "[0]\ttrain-rmse:99.14835\tvalid-rmse:98.26297\ttrain-r2:-58.35295\tvalid-r2:-67.63754\n",
      "Multiple eval metrics have been passed: 'valid-r2' will be used for early stopping.\n",
      "\n",
      "Will train until valid-r2 hasn't improved in 50 rounds.\n",
      "[10]\ttrain-rmse:81.27651\tvalid-rmse:80.36433\ttrain-r2:-38.88428\tvalid-r2:-44.91014\n",
      "[20]\ttrain-rmse:66.71610\tvalid-rmse:65.77334\ttrain-r2:-25.87403\tvalid-r2:-29.75260\n",
      "[30]\ttrain-rmse:54.86955\tvalid-rmse:53.88963\ttrain-r2:-17.17751\tvalid-r2:-19.64393\n",
      "[40]\ttrain-rmse:45.24492\tvalid-rmse:44.21995\ttrain-r2:-11.35979\tvalid-r2:-12.90012\n",
      "[50]\ttrain-rmse:37.44736\tvalid-rmse:36.37245\ttrain-r2:-7.46669\tvalid-r2:-8.40431\n",
      "[60]\ttrain-rmse:31.14760\tvalid-rmse:30.01883\ttrain-r2:-4.85761\tvalid-r2:-5.40575\n",
      "[70]\ttrain-rmse:26.08679\tvalid-rmse:24.90901\ttrain-r2:-3.10878\tvalid-r2:-3.41057\n",
      "[80]\ttrain-rmse:22.04667\tvalid-rmse:20.83109\ttrain-r2:-1.93466\tvalid-r2:-2.08465\n",
      "[90]\ttrain-rmse:18.84414\tvalid-rmse:17.60473\ttrain-r2:-1.14400\tvalid-r2:-1.20313\n",
      "[100]\ttrain-rmse:16.34008\tvalid-rmse:15.08291\ttrain-r2:-0.61205\tvalid-r2:-0.61716\n",
      "[110]\ttrain-rmse:14.40568\tvalid-rmse:13.14898\ttrain-r2:-0.25296\tvalid-r2:-0.22904\n",
      "[120]\ttrain-rmse:12.92464\tvalid-rmse:11.69082\ttrain-r2:-0.00858\tvalid-r2:0.02843\n",
      "[130]\ttrain-rmse:11.81312\tvalid-rmse:10.61783\ttrain-r2:0.15744\tvalid-r2:0.19859\n",
      "[140]\ttrain-rmse:10.98739\tvalid-rmse:9.85105\ttrain-r2:0.27111\tvalid-r2:0.31016\n",
      "[150]\ttrain-rmse:10.38078\tvalid-rmse:9.32191\ttrain-r2:0.34937\tvalid-r2:0.38228\n",
      "[160]\ttrain-rmse:9.92473\tvalid-rmse:8.95977\ttrain-r2:0.40529\tvalid-r2:0.42934\n",
      "[170]\ttrain-rmse:9.59487\tvalid-rmse:8.71940\ttrain-r2:0.44416\tvalid-r2:0.45955\n",
      "[180]\ttrain-rmse:9.34784\tvalid-rmse:8.55894\ttrain-r2:0.47241\tvalid-r2:0.47926\n",
      "[190]\ttrain-rmse:9.15930\tvalid-rmse:8.45545\ttrain-r2:0.49348\tvalid-r2:0.49178\n",
      "[200]\ttrain-rmse:9.02221\tvalid-rmse:8.38899\ttrain-r2:0.50853\tvalid-r2:0.49973\n",
      "[210]\ttrain-rmse:8.91073\tvalid-rmse:8.35243\ttrain-r2:0.52060\tvalid-r2:0.50409\n",
      "[220]\ttrain-rmse:8.82838\tvalid-rmse:8.32803\ttrain-r2:0.52942\tvalid-r2:0.50698\n",
      "[230]\ttrain-rmse:8.76948\tvalid-rmse:8.31604\ttrain-r2:0.53568\tvalid-r2:0.50840\n",
      "[240]\ttrain-rmse:8.71954\tvalid-rmse:8.30956\ttrain-r2:0.54095\tvalid-r2:0.50916\n",
      "[250]\ttrain-rmse:8.67618\tvalid-rmse:8.30740\ttrain-r2:0.54551\tvalid-r2:0.50942\n",
      "[260]\ttrain-rmse:8.64132\tvalid-rmse:8.30268\ttrain-r2:0.54915\tvalid-r2:0.50997\n",
      "[270]\ttrain-rmse:8.60208\tvalid-rmse:8.30062\ttrain-r2:0.55324\tvalid-r2:0.51022\n",
      "[280]\ttrain-rmse:8.56954\tvalid-rmse:8.29967\ttrain-r2:0.55661\tvalid-r2:0.51033\n",
      "[290]\ttrain-rmse:8.54073\tvalid-rmse:8.29981\ttrain-r2:0.55958\tvalid-r2:0.51031\n",
      "[300]\ttrain-rmse:8.51863\tvalid-rmse:8.29935\ttrain-r2:0.56186\tvalid-r2:0.51037\n",
      "[310]\ttrain-rmse:8.49419\tvalid-rmse:8.29756\ttrain-r2:0.56437\tvalid-r2:0.51058\n",
      "[320]\ttrain-rmse:8.46726\tvalid-rmse:8.29578\ttrain-r2:0.56713\tvalid-r2:0.51079\n",
      "[330]\ttrain-rmse:8.44083\tvalid-rmse:8.29454\ttrain-r2:0.56983\tvalid-r2:0.51094\n",
      "[340]\ttrain-rmse:8.41271\tvalid-rmse:8.29429\ttrain-r2:0.57269\tvalid-r2:0.51097\n",
      "[350]\ttrain-rmse:8.38942\tvalid-rmse:8.29378\ttrain-r2:0.57505\tvalid-r2:0.51102\n",
      "[360]\ttrain-rmse:8.36311\tvalid-rmse:8.29294\ttrain-r2:0.57771\tvalid-r2:0.51112\n",
      "[370]\ttrain-rmse:8.33757\tvalid-rmse:8.29049\ttrain-r2:0.58029\tvalid-r2:0.51141\n",
      "[380]\ttrain-rmse:8.31033\tvalid-rmse:8.28948\ttrain-r2:0.58303\tvalid-r2:0.51153\n",
      "[390]\ttrain-rmse:8.28742\tvalid-rmse:8.28964\ttrain-r2:0.58532\tvalid-r2:0.51151\n",
      "[400]\ttrain-rmse:8.26136\tvalid-rmse:8.28607\ttrain-r2:0.58793\tvalid-r2:0.51193\n",
      "[410]\ttrain-rmse:8.23871\tvalid-rmse:8.28324\ttrain-r2:0.59018\tvalid-r2:0.51227\n",
      "[420]\ttrain-rmse:8.21215\tvalid-rmse:8.27965\ttrain-r2:0.59282\tvalid-r2:0.51269\n",
      "[430]\ttrain-rmse:8.18717\tvalid-rmse:8.27868\ttrain-r2:0.59529\tvalid-r2:0.51280\n",
      "[440]\ttrain-rmse:8.15993\tvalid-rmse:8.27826\ttrain-r2:0.59798\tvalid-r2:0.51285\n",
      "[450]\ttrain-rmse:8.13852\tvalid-rmse:8.27772\ttrain-r2:0.60009\tvalid-r2:0.51292\n",
      "[460]\ttrain-rmse:8.11031\tvalid-rmse:8.27787\ttrain-r2:0.60286\tvalid-r2:0.51290\n",
      "[470]\ttrain-rmse:8.09256\tvalid-rmse:8.27608\ttrain-r2:0.60459\tvalid-r2:0.51311\n",
      "[480]\ttrain-rmse:8.07242\tvalid-rmse:8.27387\ttrain-r2:0.60656\tvalid-r2:0.51337\n",
      "[490]\ttrain-rmse:8.04400\tvalid-rmse:8.27322\ttrain-r2:0.60933\tvalid-r2:0.51345\n",
      "[500]\ttrain-rmse:8.02265\tvalid-rmse:8.27319\ttrain-r2:0.61140\tvalid-r2:0.51345\n",
      "[510]\ttrain-rmse:7.99709\tvalid-rmse:8.27450\ttrain-r2:0.61387\tvalid-r2:0.51329\n",
      "[520]\ttrain-rmse:7.97781\tvalid-rmse:8.27480\ttrain-r2:0.61573\tvalid-r2:0.51326\n",
      "[530]\ttrain-rmse:7.95666\tvalid-rmse:8.27460\ttrain-r2:0.61776\tvalid-r2:0.51328\n",
      "[540]\ttrain-rmse:7.93014\tvalid-rmse:8.27225\ttrain-r2:0.62031\tvalid-r2:0.51356\n",
      "[550]\ttrain-rmse:7.91044\tvalid-rmse:8.27022\ttrain-r2:0.62219\tvalid-r2:0.51380\n",
      "[560]\ttrain-rmse:7.88826\tvalid-rmse:8.27330\ttrain-r2:0.62431\tvalid-r2:0.51344\n",
      "[570]\ttrain-rmse:7.87004\tvalid-rmse:8.27366\ttrain-r2:0.62604\tvalid-r2:0.51339\n",
      "[580]\ttrain-rmse:7.84449\tvalid-rmse:8.27392\ttrain-r2:0.62846\tvalid-r2:0.51336\n",
      "[590]\ttrain-rmse:7.82523\tvalid-rmse:8.27411\ttrain-r2:0.63029\tvalid-r2:0.51334\n",
      "[600]\ttrain-rmse:7.80523\tvalid-rmse:8.27194\ttrain-r2:0.63217\tvalid-r2:0.51360\n",
      "Stopping. Best iteration:\n",
      "[551]\ttrain-rmse:7.90880\tvalid-rmse:8.27020\ttrain-r2:0.62235\tvalid-r2:0.51380\n",
      "\n",
      "[22:02:34] WARNING: C:/Users/Administrator/workspace/xgboost-win64_release_1.1.0/src/objective/regression_obj.cu:170: reg:linear is now deprecated in favor of reg:squarederror.\n"
     ]
    }
   ],
   "source": [
    "xgb_model = xgb.train(params, d_train, \n",
    "                1000, watchlist, early_stopping_rounds=50, \n",
    "                feval=xgb_r2_score, maximize=True, verbose_eval=10)"
   ]
  },
  {
   "cell_type": "code",
   "execution_count": 21,
   "metadata": {},
   "outputs": [],
   "source": [
    "# 5. Predict your test_df values using XGBoost.\n",
    "\n",
    "p_test = xgb_model.predict(d_test)"
   ]
  },
  {
   "cell_type": "code",
   "execution_count": 22,
   "metadata": {},
   "outputs": [
    {
     "data": {
      "text/html": [
       "<div>\n",
       "<style scoped>\n",
       "    .dataframe tbody tr th:only-of-type {\n",
       "        vertical-align: middle;\n",
       "    }\n",
       "\n",
       "    .dataframe tbody tr th {\n",
       "        vertical-align: top;\n",
       "    }\n",
       "\n",
       "    .dataframe thead th {\n",
       "        text-align: right;\n",
       "    }\n",
       "</style>\n",
       "<table border=\"1\" class=\"dataframe\">\n",
       "  <thead>\n",
       "    <tr style=\"text-align: right;\">\n",
       "      <th></th>\n",
       "      <th>ID</th>\n",
       "      <th>y</th>\n",
       "    </tr>\n",
       "  </thead>\n",
       "  <tbody>\n",
       "    <tr>\n",
       "      <th>0</th>\n",
       "      <td>1</td>\n",
       "      <td>82.943069</td>\n",
       "    </tr>\n",
       "    <tr>\n",
       "      <th>1</th>\n",
       "      <td>2</td>\n",
       "      <td>97.363327</td>\n",
       "    </tr>\n",
       "    <tr>\n",
       "      <th>2</th>\n",
       "      <td>3</td>\n",
       "      <td>83.191460</td>\n",
       "    </tr>\n",
       "    <tr>\n",
       "      <th>3</th>\n",
       "      <td>4</td>\n",
       "      <td>76.866570</td>\n",
       "    </tr>\n",
       "    <tr>\n",
       "      <th>4</th>\n",
       "      <td>5</td>\n",
       "      <td>112.676414</td>\n",
       "    </tr>\n",
       "  </tbody>\n",
       "</table>\n",
       "</div>"
      ],
      "text/plain": [
       "   ID           y\n",
       "0   1   82.943069\n",
       "1   2   97.363327\n",
       "2   3   83.191460\n",
       "3   4   76.866570\n",
       "4   5  112.676414"
      ]
     },
     "execution_count": 22,
     "metadata": {},
     "output_type": "execute_result"
    }
   ],
   "source": [
    "sub = pd.DataFrame()\n",
    "sub['ID'] = id_test\n",
    "sub['y'] = p_test\n",
    "sub.to_csv('Submission.csv', index=False)\n",
    "\n",
    "sub.head()"
   ]
  },
  {
   "cell_type": "code",
   "execution_count": 25,
   "metadata": {},
   "outputs": [
    {
     "data": {
      "text/html": [
       "<div>\n",
       "<style scoped>\n",
       "    .dataframe tbody tr th:only-of-type {\n",
       "        vertical-align: middle;\n",
       "    }\n",
       "\n",
       "    .dataframe tbody tr th {\n",
       "        vertical-align: top;\n",
       "    }\n",
       "\n",
       "    .dataframe thead th {\n",
       "        text-align: right;\n",
       "    }\n",
       "</style>\n",
       "<table border=\"1\" class=\"dataframe\">\n",
       "  <thead>\n",
       "    <tr style=\"text-align: right;\">\n",
       "      <th></th>\n",
       "      <th>ID</th>\n",
       "      <th>y</th>\n",
       "    </tr>\n",
       "  </thead>\n",
       "  <tbody>\n",
       "    <tr>\n",
       "      <th>0</th>\n",
       "      <td>1</td>\n",
       "      <td>82.943069</td>\n",
       "    </tr>\n",
       "    <tr>\n",
       "      <th>1</th>\n",
       "      <td>2</td>\n",
       "      <td>97.363327</td>\n",
       "    </tr>\n",
       "    <tr>\n",
       "      <th>2</th>\n",
       "      <td>3</td>\n",
       "      <td>83.191460</td>\n",
       "    </tr>\n",
       "    <tr>\n",
       "      <th>3</th>\n",
       "      <td>4</td>\n",
       "      <td>76.866570</td>\n",
       "    </tr>\n",
       "    <tr>\n",
       "      <th>4</th>\n",
       "      <td>5</td>\n",
       "      <td>112.676414</td>\n",
       "    </tr>\n",
       "    <tr>\n",
       "      <th>...</th>\n",
       "      <td>...</td>\n",
       "      <td>...</td>\n",
       "    </tr>\n",
       "    <tr>\n",
       "      <th>4204</th>\n",
       "      <td>8410</td>\n",
       "      <td>109.648430</td>\n",
       "    </tr>\n",
       "    <tr>\n",
       "      <th>4205</th>\n",
       "      <td>8411</td>\n",
       "      <td>100.056808</td>\n",
       "    </tr>\n",
       "    <tr>\n",
       "      <th>4206</th>\n",
       "      <td>8413</td>\n",
       "      <td>99.187675</td>\n",
       "    </tr>\n",
       "    <tr>\n",
       "      <th>4207</th>\n",
       "      <td>8414</td>\n",
       "      <td>106.760742</td>\n",
       "    </tr>\n",
       "    <tr>\n",
       "      <th>4208</th>\n",
       "      <td>8416</td>\n",
       "      <td>96.931854</td>\n",
       "    </tr>\n",
       "  </tbody>\n",
       "</table>\n",
       "<p>4209 rows × 2 columns</p>\n",
       "</div>"
      ],
      "text/plain": [
       "        ID           y\n",
       "0        1   82.943069\n",
       "1        2   97.363327\n",
       "2        3   83.191460\n",
       "3        4   76.866570\n",
       "4        5  112.676414\n",
       "...    ...         ...\n",
       "4204  8410  109.648430\n",
       "4205  8411  100.056808\n",
       "4206  8413   99.187675\n",
       "4207  8414  106.760742\n",
       "4208  8416   96.931854\n",
       "\n",
       "[4209 rows x 2 columns]"
      ]
     },
     "execution_count": 25,
     "metadata": {},
     "output_type": "execute_result"
    }
   ],
   "source": [
    "sub"
   ]
  },
  {
   "cell_type": "code",
   "execution_count": null,
   "metadata": {},
   "outputs": [],
   "source": []
  }
 ],
 "metadata": {
  "kernelspec": {
   "display_name": "Python 3",
   "language": "python",
   "name": "python3"
  },
  "language_info": {
   "codemirror_mode": {
    "name": "ipython",
    "version": 3
   },
   "file_extension": ".py",
   "mimetype": "text/x-python",
   "name": "python",
   "nbconvert_exporter": "python",
   "pygments_lexer": "ipython3",
   "version": "3.6.4"
  }
 },
 "nbformat": 4,
 "nbformat_minor": 2
}
